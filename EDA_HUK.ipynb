{
 "cells": [
  {
   "cell_type": "code",
   "execution_count": 1,
   "id": "e1460618-9c96-4771-a4a2-9437a1683c39",
   "metadata": {},
   "outputs": [],
   "source": [
    "import arff\n",
    "import pandas as pd\n",
    "import matplotlib.pyplot as plt\n",
    "import numpy as np\n",
    "import matplotlib.pyplot as plt\n",
    "import seaborn as sns"
   ]
  },
  {
   "cell_type": "code",
   "execution_count": 2,
   "id": "426577e0-c5f0-42e4-b423-db3fee174348",
   "metadata": {},
   "outputs": [],
   "source": [
    "\n",
    "def load_arff_file(\n",
    "    filename: str, \n",
    "    custom_columns: list[str] = None\n",
    ") -> pd.DataFrame:\n",
    "    \"\"\"\n",
    "    Loads an ARFF file using the liac-arff library, returning a Pandas DataFrame.\n",
    "    If custom_columns is provided, those will override the attribute names in the file.\n",
    "    \"\"\"\n",
    "    # Parse the .arff file\n",
    "    data_arff = arff.load(open(filename, 'r'))\n",
    "    \n",
    "    # data_arff is a dictionary with keys: 'description', 'relation', 'attributes', 'data'\n",
    "    records = data_arff['data']           # the raw data rows\n",
    "    attributes = data_arff['attributes']  # list of (name, type) tuples\n",
    "    \n",
    "    if custom_columns is None:\n",
    "        # Use the attribute names from the file\n",
    "        column_names = [attr[0] for attr in attributes]\n",
    "    else:\n",
    "        # Use the user-provided column list\n",
    "        column_names = custom_columns\n",
    "    \n",
    "    df = pd.DataFrame(records, columns=column_names)\n",
    "    return df"
   ]
  },
  {
   "cell_type": "code",
   "execution_count": 3,
   "id": "a5363a3c-b5bb-4046-9175-53b613fd42aa",
   "metadata": {},
   "outputs": [],
   "source": [
    "freq_cols = [\n",
    "    \"IDpol\", \"ClaimNb\", \"Exposure\", \"Area\", \"VehPower\",\n",
    "    \"VehAge\", \"DrivAge\", \"BonusMalus\", \"VehBrand\",\n",
    "    \"VehGas\", \"Density\", \"Region\"\n",
    "]\n",
    "\n",
    "df_freq = load_arff_file(\"Data/freMTPL2freq.arff\", custom_columns=freq_cols)"
   ]
  },
  {
   "cell_type": "code",
   "execution_count": 4,
   "id": "8949988a-c74a-4088-9f48-2152452f2eb7",
   "metadata": {},
   "outputs": [
    {
     "name": "stdout",
     "output_type": "stream",
     "text": [
      "Frequency dataset:\n",
      "   IDpol  ClaimNb  Exposure Area  VehPower  VehAge  DrivAge  BonusMalus  \\\n",
      "0    1.0      1.0      0.10    D       5.0     0.0     55.0        50.0   \n",
      "1    3.0      1.0      0.77    D       5.0     0.0     55.0        50.0   \n",
      "2    5.0      1.0      0.75    B       6.0     2.0     52.0        50.0   \n",
      "3   10.0      1.0      0.09    B       7.0     0.0     46.0        50.0   \n",
      "4   11.0      1.0      0.84    B       7.0     0.0     46.0        50.0   \n",
      "\n",
      "  VehBrand   VehGas  Density Region  \n",
      "0      B12  Regular   1217.0    R82  \n",
      "1      B12  Regular   1217.0    R82  \n",
      "2      B12   Diesel     54.0    R22  \n",
      "3      B12   Diesel     76.0    R72  \n",
      "4      B12   Diesel     76.0    R72  \n",
      "<class 'pandas.core.frame.DataFrame'>\n",
      "RangeIndex: 678013 entries, 0 to 678012\n",
      "Data columns (total 12 columns):\n",
      " #   Column      Non-Null Count   Dtype  \n",
      "---  ------      --------------   -----  \n",
      " 0   IDpol       678013 non-null  float64\n",
      " 1   ClaimNb     678013 non-null  float64\n",
      " 2   Exposure    678013 non-null  float64\n",
      " 3   Area        678013 non-null  object \n",
      " 4   VehPower    678013 non-null  float64\n",
      " 5   VehAge      678013 non-null  float64\n",
      " 6   DrivAge     678013 non-null  float64\n",
      " 7   BonusMalus  678013 non-null  float64\n",
      " 8   VehBrand    678013 non-null  object \n",
      " 9   VehGas      678013 non-null  object \n",
      " 10  Density     678013 non-null  float64\n",
      " 11  Region      678013 non-null  object \n",
      "dtypes: float64(8), object(4)\n",
      "memory usage: 62.1+ MB\n",
      "None \n",
      "\n"
     ]
    }
   ],
   "source": [
    "print(\"Frequency dataset:\")\n",
    "print(df_freq.head())\n",
    "print(df_freq.info(), \"\\n\")"
   ]
  },
  {
   "cell_type": "code",
   "execution_count": 6,
   "id": "4461b809-30bc-40ff-8112-700ef8b79646",
   "metadata": {},
   "outputs": [],
   "source": [
    "sev_cols = [\"IDpol\", \"ClaimAmount\"]\n",
    "\n",
    "df_sev = load_arff_file(\"Data/freMTPL2sev.arff\", custom_columns=sev_cols)\n"
   ]
  },
  {
   "cell_type": "code",
   "execution_count": 7,
   "id": "cc696961-c2a9-4574-9fe8-c7815038f3b4",
   "metadata": {},
   "outputs": [
    {
     "name": "stdout",
     "output_type": "stream",
     "text": [
      "Severity dataset:\n",
      "       IDpol  ClaimAmount\n",
      "0     1552.0       995.20\n",
      "1  1010996.0      1128.12\n",
      "2  4024277.0      1851.11\n",
      "3  4007252.0      1204.00\n",
      "4  4046424.0      1204.00\n",
      "<class 'pandas.core.frame.DataFrame'>\n",
      "RangeIndex: 26639 entries, 0 to 26638\n",
      "Data columns (total 2 columns):\n",
      " #   Column       Non-Null Count  Dtype  \n",
      "---  ------       --------------  -----  \n",
      " 0   IDpol        26639 non-null  float64\n",
      " 1   ClaimAmount  26639 non-null  float64\n",
      "dtypes: float64(2)\n",
      "memory usage: 416.4 KB\n",
      "None \n",
      "\n"
     ]
    }
   ],
   "source": [
    "print(\"Severity dataset:\")\n",
    "print(df_sev.head())\n",
    "print(df_sev.info(), \"\\n\")"
   ]
  },
  {
   "cell_type": "code",
   "execution_count": 8,
   "id": "25f460f4-0552-482f-98d8-d05f27d69f18",
   "metadata": {},
   "outputs": [
    {
     "name": "stdout",
     "output_type": "stream",
     "text": [
      "Frequency dataset shape: (678013, 12)\n",
      "Severity dataset shape: (26639, 2)\n"
     ]
    }
   ],
   "source": [
    "print(\"Frequency dataset shape:\", df_freq.shape)\n",
    "print(\"Severity dataset shape:\", df_sev.shape)\n"
   ]
  },
  {
   "cell_type": "markdown",
   "id": "01432b32-a52a-49f4-a7d5-174159396b99",
   "metadata": {},
   "source": [
    "## Inspect Missing Values\n"
   ]
  },
  {
   "cell_type": "code",
   "execution_count": 9,
   "id": "cfaf044d-bbb0-4e13-8b95-30644baf04e3",
   "metadata": {},
   "outputs": [
    {
     "name": "stdout",
     "output_type": "stream",
     "text": [
      "IDpol         0\n",
      "ClaimNb       0\n",
      "Exposure      0\n",
      "Area          0\n",
      "VehPower      0\n",
      "VehAge        0\n",
      "DrivAge       0\n",
      "BonusMalus    0\n",
      "VehBrand      0\n",
      "VehGas        0\n",
      "Density       0\n",
      "Region        0\n",
      "dtype: int64\n",
      "IDpol          0\n",
      "ClaimAmount    0\n",
      "dtype: int64\n"
     ]
    }
   ],
   "source": [
    "print(df_freq.isnull().sum())\n",
    "print(df_sev.isnull().sum())\n"
   ]
  },
  {
   "cell_type": "markdown",
   "id": "c9446644-4406-4cfc-a8e0-cbb598998222",
   "metadata": {},
   "source": [
    "##### No missing values allows us to proceed with the investigation of the data"
   ]
  },
  {
   "cell_type": "markdown",
   "id": "66cf95f2-a1a0-4f14-9a3e-93252c656f04",
   "metadata": {},
   "source": [
    "## Basic Descriptive Statistics\n"
   ]
  },
  {
   "cell_type": "code",
   "execution_count": 10,
   "id": "8ca6033a-2de9-4e6f-9ec1-2dd8bf549976",
   "metadata": {},
   "outputs": [
    {
     "data": {
      "text/html": [
       "<div>\n",
       "<style scoped>\n",
       "    .dataframe tbody tr th:only-of-type {\n",
       "        vertical-align: middle;\n",
       "    }\n",
       "\n",
       "    .dataframe tbody tr th {\n",
       "        vertical-align: top;\n",
       "    }\n",
       "\n",
       "    .dataframe thead th {\n",
       "        text-align: right;\n",
       "    }\n",
       "</style>\n",
       "<table border=\"1\" class=\"dataframe\">\n",
       "  <thead>\n",
       "    <tr style=\"text-align: right;\">\n",
       "      <th></th>\n",
       "      <th>IDpol</th>\n",
       "      <th>ClaimNb</th>\n",
       "      <th>Exposure</th>\n",
       "      <th>VehPower</th>\n",
       "      <th>VehAge</th>\n",
       "      <th>DrivAge</th>\n",
       "      <th>BonusMalus</th>\n",
       "      <th>Density</th>\n",
       "    </tr>\n",
       "  </thead>\n",
       "  <tbody>\n",
       "    <tr>\n",
       "      <th>count</th>\n",
       "      <td>6.780130e+05</td>\n",
       "      <td>678013.000000</td>\n",
       "      <td>678013.000000</td>\n",
       "      <td>678013.000000</td>\n",
       "      <td>678013.000000</td>\n",
       "      <td>678013.000000</td>\n",
       "      <td>678013.000000</td>\n",
       "      <td>678013.000000</td>\n",
       "    </tr>\n",
       "    <tr>\n",
       "      <th>mean</th>\n",
       "      <td>2.621857e+06</td>\n",
       "      <td>0.053247</td>\n",
       "      <td>0.528750</td>\n",
       "      <td>6.454631</td>\n",
       "      <td>7.044265</td>\n",
       "      <td>45.499122</td>\n",
       "      <td>59.761502</td>\n",
       "      <td>1792.422405</td>\n",
       "    </tr>\n",
       "    <tr>\n",
       "      <th>std</th>\n",
       "      <td>1.641783e+06</td>\n",
       "      <td>0.240117</td>\n",
       "      <td>0.364442</td>\n",
       "      <td>2.050906</td>\n",
       "      <td>5.666232</td>\n",
       "      <td>14.137444</td>\n",
       "      <td>15.636658</td>\n",
       "      <td>3958.646564</td>\n",
       "    </tr>\n",
       "    <tr>\n",
       "      <th>min</th>\n",
       "      <td>1.000000e+00</td>\n",
       "      <td>0.000000</td>\n",
       "      <td>0.002732</td>\n",
       "      <td>4.000000</td>\n",
       "      <td>0.000000</td>\n",
       "      <td>18.000000</td>\n",
       "      <td>50.000000</td>\n",
       "      <td>1.000000</td>\n",
       "    </tr>\n",
       "    <tr>\n",
       "      <th>25%</th>\n",
       "      <td>1.157951e+06</td>\n",
       "      <td>0.000000</td>\n",
       "      <td>0.180000</td>\n",
       "      <td>5.000000</td>\n",
       "      <td>2.000000</td>\n",
       "      <td>34.000000</td>\n",
       "      <td>50.000000</td>\n",
       "      <td>92.000000</td>\n",
       "    </tr>\n",
       "    <tr>\n",
       "      <th>50%</th>\n",
       "      <td>2.272152e+06</td>\n",
       "      <td>0.000000</td>\n",
       "      <td>0.490000</td>\n",
       "      <td>6.000000</td>\n",
       "      <td>6.000000</td>\n",
       "      <td>44.000000</td>\n",
       "      <td>50.000000</td>\n",
       "      <td>393.000000</td>\n",
       "    </tr>\n",
       "    <tr>\n",
       "      <th>75%</th>\n",
       "      <td>4.046274e+06</td>\n",
       "      <td>0.000000</td>\n",
       "      <td>0.990000</td>\n",
       "      <td>7.000000</td>\n",
       "      <td>11.000000</td>\n",
       "      <td>55.000000</td>\n",
       "      <td>64.000000</td>\n",
       "      <td>1658.000000</td>\n",
       "    </tr>\n",
       "    <tr>\n",
       "      <th>max</th>\n",
       "      <td>6.114330e+06</td>\n",
       "      <td>16.000000</td>\n",
       "      <td>2.010000</td>\n",
       "      <td>15.000000</td>\n",
       "      <td>100.000000</td>\n",
       "      <td>100.000000</td>\n",
       "      <td>230.000000</td>\n",
       "      <td>27000.000000</td>\n",
       "    </tr>\n",
       "  </tbody>\n",
       "</table>\n",
       "</div>"
      ],
      "text/plain": [
       "              IDpol        ClaimNb       Exposure       VehPower  \\\n",
       "count  6.780130e+05  678013.000000  678013.000000  678013.000000   \n",
       "mean   2.621857e+06       0.053247       0.528750       6.454631   \n",
       "std    1.641783e+06       0.240117       0.364442       2.050906   \n",
       "min    1.000000e+00       0.000000       0.002732       4.000000   \n",
       "25%    1.157951e+06       0.000000       0.180000       5.000000   \n",
       "50%    2.272152e+06       0.000000       0.490000       6.000000   \n",
       "75%    4.046274e+06       0.000000       0.990000       7.000000   \n",
       "max    6.114330e+06      16.000000       2.010000      15.000000   \n",
       "\n",
       "              VehAge        DrivAge     BonusMalus        Density  \n",
       "count  678013.000000  678013.000000  678013.000000  678013.000000  \n",
       "mean        7.044265      45.499122      59.761502    1792.422405  \n",
       "std         5.666232      14.137444      15.636658    3958.646564  \n",
       "min         0.000000      18.000000      50.000000       1.000000  \n",
       "25%         2.000000      34.000000      50.000000      92.000000  \n",
       "50%         6.000000      44.000000      50.000000     393.000000  \n",
       "75%        11.000000      55.000000      64.000000    1658.000000  \n",
       "max       100.000000     100.000000     230.000000   27000.000000  "
      ]
     },
     "execution_count": 10,
     "metadata": {},
     "output_type": "execute_result"
    }
   ],
   "source": [
    "df_freq.describe()\n",
    "\n"
   ]
  },
  {
   "cell_type": "markdown",
   "id": "e621fbc1-44cd-4020-839e-65efe28f5135",
   "metadata": {},
   "source": [
    "ClaimNb having a mean of 0.05 indicates that most insurance holders will not submit a claim - which makes sense \n",
    "Exposure being 0.5 implies that many policies might nor be held for full 12 months implying a variety of coverage length\n",
    "\n",
    "For ClaimNB, BonusMalus and Density the median is larger than the mean -> left skew\n",
    "\n",
    "For Exposures, VehPower, DriveAge, VehAge the mean and median are about the same\n",
    "\n",
    "For Claim Amount the mean is much larger than the median -> right skew"
   ]
  },
  {
   "cell_type": "code",
   "execution_count": 11,
   "id": "9e0da252-bfd3-4131-b449-36330175cfb9",
   "metadata": {},
   "outputs": [
    {
     "data": {
      "text/html": [
       "<div>\n",
       "<style scoped>\n",
       "    .dataframe tbody tr th:only-of-type {\n",
       "        vertical-align: middle;\n",
       "    }\n",
       "\n",
       "    .dataframe tbody tr th {\n",
       "        vertical-align: top;\n",
       "    }\n",
       "\n",
       "    .dataframe thead th {\n",
       "        text-align: right;\n",
       "    }\n",
       "</style>\n",
       "<table border=\"1\" class=\"dataframe\">\n",
       "  <thead>\n",
       "    <tr style=\"text-align: right;\">\n",
       "      <th></th>\n",
       "      <th>IDpol</th>\n",
       "      <th>ClaimAmount</th>\n",
       "    </tr>\n",
       "  </thead>\n",
       "  <tbody>\n",
       "    <tr>\n",
       "      <th>count</th>\n",
       "      <td>2.663900e+04</td>\n",
       "      <td>2.663900e+04</td>\n",
       "    </tr>\n",
       "    <tr>\n",
       "      <th>mean</th>\n",
       "      <td>2.279864e+06</td>\n",
       "      <td>2.278536e+03</td>\n",
       "    </tr>\n",
       "    <tr>\n",
       "      <th>std</th>\n",
       "      <td>1.577202e+06</td>\n",
       "      <td>2.929748e+04</td>\n",
       "    </tr>\n",
       "    <tr>\n",
       "      <th>min</th>\n",
       "      <td>1.390000e+02</td>\n",
       "      <td>1.000000e+00</td>\n",
       "    </tr>\n",
       "    <tr>\n",
       "      <th>25%</th>\n",
       "      <td>1.087642e+06</td>\n",
       "      <td>6.868100e+02</td>\n",
       "    </tr>\n",
       "    <tr>\n",
       "      <th>50%</th>\n",
       "      <td>2.137413e+06</td>\n",
       "      <td>1.172000e+03</td>\n",
       "    </tr>\n",
       "    <tr>\n",
       "      <th>75%</th>\n",
       "      <td>3.180162e+06</td>\n",
       "      <td>1.228080e+03</td>\n",
       "    </tr>\n",
       "    <tr>\n",
       "      <th>max</th>\n",
       "      <td>6.113971e+06</td>\n",
       "      <td>4.075401e+06</td>\n",
       "    </tr>\n",
       "  </tbody>\n",
       "</table>\n",
       "</div>"
      ],
      "text/plain": [
       "              IDpol   ClaimAmount\n",
       "count  2.663900e+04  2.663900e+04\n",
       "mean   2.279864e+06  2.278536e+03\n",
       "std    1.577202e+06  2.929748e+04\n",
       "min    1.390000e+02  1.000000e+00\n",
       "25%    1.087642e+06  6.868100e+02\n",
       "50%    2.137413e+06  1.172000e+03\n",
       "75%    3.180162e+06  1.228080e+03\n",
       "max    6.113971e+06  4.075401e+06"
      ]
     },
     "execution_count": 11,
     "metadata": {},
     "output_type": "execute_result"
    }
   ],
   "source": [
    "df_sev.describe()"
   ]
  },
  {
   "cell_type": "code",
   "execution_count": 12,
   "id": "afecb18c-beef-4d52-9a69-8e379a87e8cf",
   "metadata": {},
   "outputs": [],
   "source": [
    "def freedman_diaconis_bins(series):\n",
    "    \"\"\"\n",
    "    Compute the number of histogram bins using the Freedman–Diaconis rule:\n",
    "    \n",
    "    bin_width = 2 * IQR(series) / (n^(1/3))\n",
    "    number_of_bins = (max(series) - min(series)) / bin_width\n",
    "    \n",
    "    If the IQR is zero (e.g., when data is all the same), \n",
    "    fall back to a simple default like 10 bins.\n",
    "    \"\"\"\n",
    "    x = series.dropna()\n",
    "    if len(x) < 2:\n",
    "        return 1\n",
    "    \n",
    "    q25, q75 = np.percentile(x, [25, 75])\n",
    "    iqr = q75 - q25\n",
    "    n = len(x)\n",
    "    \n",
    "    if iqr == 0:\n",
    "        return 10\n",
    "    \n",
    "    bin_width = 2 * iqr / (n ** (1/3))\n",
    "    data_range = x.max() - x.min()\n",
    "    \n",
    "    if bin_width == 0:\n",
    "        return 10\n",
    "    \n",
    "    return max(int(np.ceil(data_range / bin_width)), 1)"
   ]
  },
  {
   "cell_type": "code",
   "execution_count": 13,
   "id": "311689c8-84ee-4a7f-927a-f59829e267af",
   "metadata": {},
   "outputs": [],
   "source": [
    "def plot_histograms_freedman_diaconis(\n",
    "    df, columns, clip_upper_quantile=None\n",
    "):\n",
    "    \"\"\"\n",
    "    Plots the distribution of each column in `columns`.\n",
    "    Numeric columns:\n",
    "        - Freedman–Diaconis bins\n",
    "        - (Optionally) clipped to a chosen upper quantile\n",
    "    Non-numeric columns:\n",
    "        - Bar charts of value counts\n",
    "    \n",
    "    Parameters\n",
    "    ----------\n",
    "    df : pd.DataFrame\n",
    "        The dataframe containing your data.\n",
    "    columns : list of str\n",
    "        The columns you want to plot.\n",
    "    clip_upper_quantile : float or None\n",
    "        If not None, clip data above this quantile (e.g. 0.99) \n",
    "        to improve visualization of highly skewed data.\n",
    "    \"\"\"\n",
    "    for col in columns:\n",
    "        plt.figure()\n",
    "\n",
    "        # Numeric columns: Freedman-Diaconis histogram\n",
    "        if pd.api.types.is_numeric_dtype(df[col]):\n",
    "            x = df[col].dropna()\n",
    "\n",
    "            # Optionally clip the high end to the chosen quantile\n",
    "            if clip_upper_quantile is not None:\n",
    "                upper_cutoff = x.quantile(clip_upper_quantile)\n",
    "                x = x[x <= upper_cutoff]\n",
    "\n",
    "            # Determine bins via Freedman–Diaconis\n",
    "            n_bins = freedman_diaconis_bins(x)\n",
    "\n",
    "            # Plot\n",
    "            plt.hist(x, bins=n_bins)\n",
    "            plt.title(f'Histogram of {col}')\n",
    "            plt.xlabel(col)\n",
    "            plt.ylabel('Frequency')\n",
    "\n",
    "        # Categorical columns: Bar chart of value counts\n",
    "        else:\n",
    "            df[col].value_counts().plot(kind='bar')\n",
    "            plt.title(f'Bar chart of {col}')\n",
    "            plt.xlabel(col)\n",
    "            plt.ylabel('Count')\n",
    "\n",
    "        # Save the figure\n",
    "        filename = f\"{col}_histogram.png\"\n",
    "        plt.tight_layout()\n",
    "        plt.savefig(filename)\n",
    "        plt.close()\n",
    "        print(f\"✅ Saved: {filename}\")\n"
   ]
  },
  {
   "cell_type": "code",
   "execution_count": 14,
   "id": "c9a866cf-86b7-4eac-a601-73a60106d3bd",
   "metadata": {},
   "outputs": [],
   "source": [
    "freq_numeric_cols = [\n",
    "    \"ClaimNb\", \"Exposure\", \"VehPower\", \"VehAge\", \"DrivAge\", \n",
    "    \"BonusMalus\", \"Density\"\n",
    "]\n",
    "\n",
    "# Numerical: ClaimNb\", \"Exposure\", \"VehPower\",\"VehAge\", \"DrivAge\", \"BonusMalus\", \"Density\" \n",
    "# Categorical: \"Area\", \"VehBrand\",\"VehGas\",\"Region\"\n",
    "\n",
    "\n",
    "sev_numeric_cols = [\"ClaimAmount\"]"
   ]
  },
  {
   "cell_type": "code",
   "execution_count": 15,
   "id": "5b9cb141-60d8-4e5f-aecc-4db4329e417e",
   "metadata": {},
   "outputs": [
    {
     "name": "stdout",
     "output_type": "stream",
     "text": [
      "✅ Saved: ClaimNb_histogram.png\n",
      "✅ Saved: Exposure_histogram.png\n",
      "✅ Saved: VehPower_histogram.png\n",
      "✅ Saved: VehAge_histogram.png\n",
      "✅ Saved: DrivAge_histogram.png\n",
      "✅ Saved: BonusMalus_histogram.png\n",
      "✅ Saved: Density_histogram.png\n"
     ]
    }
   ],
   "source": [
    "plot_histograms_freedman_diaconis(df_freq, freq_numeric_cols, clip_upper_quantile=0.99)"
   ]
  },
  {
   "cell_type": "code",
   "execution_count": 16,
   "id": "2e27dbb4-0902-4958-abee-0c64973e62ea",
   "metadata": {},
   "outputs": [],
   "source": [
    "import matplotlib.pyplot as plt\n",
    "\n",
    "def plot_categorical_bars(df, categorical_cols):\n",
    "    \"\"\"\n",
    "    Plots bar charts for each column in `categorical_cols`.\n",
    "    - Each chart shows the value counts of that column.\n",
    "    - Bars are displayed in descending order of frequency.\n",
    "    - Each plot is saved as an image (PNG) to the current directory.\n",
    "\n",
    "    Parameters\n",
    "    ----------\n",
    "    df : pd.DataFrame\n",
    "        The DataFrame containing your data.\n",
    "    categorical_cols : list of str\n",
    "        Names of the columns that should be treated as categorical.\n",
    "    \"\"\"\n",
    "    for col in categorical_cols:\n",
    "        # Get value counts, sorted descending\n",
    "        vc = df[col].value_counts()\n",
    "\n",
    "        # Create a new figure for each column\n",
    "        plt.figure()\n",
    "\n",
    "        # Plot bar chart\n",
    "        vc.plot(kind='bar')\n",
    "\n",
    "        # Customize titles and labels\n",
    "        plt.title(f'Bar Chart of {col}')\n",
    "        plt.xlabel(col)\n",
    "        plt.ylabel('Count')\n",
    "\n",
    "        # Save the plot as a PNG file\n",
    "        filename = f\"{col}_bar_chart.png\"\n",
    "        plt.tight_layout()\n",
    "        plt.savefig(filename)\n",
    "        print(f\"✅ Saved bar chart to: {filename}\")\n",
    "\n",
    "        # Show the plot\n",
    "        plt.show()\n"
   ]
  },
  {
   "cell_type": "code",
   "execution_count": 17,
   "id": "d3d6fbda-059d-4398-9fc4-1752699aeb8f",
   "metadata": {},
   "outputs": [
    {
     "name": "stdout",
     "output_type": "stream",
     "text": [
      "✅ Saved bar chart to: Area_bar_chart.png\n"
     ]
    },
    {
     "data": {
      "image/png": "[encoded data removed]",
      "text/plain": [
       "<Figure size 640x480 with 1 Axes>"
      ]
     },
     "metadata": {},
     "output_type": "display_data"
    },
    {
     "name": "stdout",
     "output_type": "stream",
     "text": [
      "✅ Saved bar chart to: VehBrand_bar_chart.png\n"
     ]
    },
    {
     "data": {
      "image/png": "[encoded data removed]",
      "text/plain": [
       "<Figure size 640x480 with 1 Axes>"
      ]
     },
     "metadata": {},
     "output_type": "display_data"
    },
    {
     "name": "stdout",
     "output_type": "stream",
     "text": [
      "✅ Saved bar chart to: VehGas_bar_chart.png\n"
     ]
    },
    {
     "data": {
      "image/png": "[encoded data removed]",
      "text/plain": [
       "<Figure size 640x480 with 1 Axes>"
      ]
     },
     "metadata": {},
     "output_type": "display_data"
    },
    {
     "name": "stdout",
     "output_type": "stream",
     "text": [
      "✅ Saved bar chart to: Region_bar_chart.png\n"
     ]
    },
    {
     "data": {
      "image/png": "[encoded data removed]",
      "text/plain": [
       "<Figure size 640x480 with 1 Axes>"
      ]
     },
     "metadata": {},
     "output_type": "display_data"
    }
   ],
   "source": [
    "# These columns are known to be categorical (strings) from your dataset:\n",
    "categorical_cols = [\"Area\", \"VehBrand\", \"VehGas\", \"Region\"]\n",
    "\n",
    "# Call the function to plot bar charts for these columns\n",
    "plot_categorical_bars(df_freq, categorical_cols)"
   ]
  },
  {
   "cell_type": "markdown",
   "id": "389b3052-3de3-4018-90af-d8b2d5399411",
   "metadata": {},
   "source": [
    "The majority of insured come from area C (200k) and the least from F (25k)\n",
    "\n",
    "The vast majority of cars around 160k each come from VehBrans B1, B2, B12. B3 has around 55k\n",
    "\n",
    "The split between regular and diesel is approx 50:50\n",
    "\n",
    "160k of all insured come from region R24. R24, R82, R93 and R11 account for the majority of regions. I think about 90% of all insured come from these areas"
   ]
  },
  {
   "cell_type": "code",
   "execution_count": 18,
   "id": "61329933-1e12-4e01-8733-f4ce1f839705",
   "metadata": {},
   "outputs": [],
   "source": [
    "def prepare_data_for_modeling(df_freq, df_sev):\n",
    "    df_sev_agg = df_sev.groupby('IDpol')['ClaimAmount'].sum().reset_index()\n",
    "    df_sev_agg.rename(columns={'ClaimAmount': 'total_claim_amount'}, inplace=True)\n",
    "    df_merged = pd.merge(df_freq, df_sev_agg, on='IDpol', how='left')\n",
    "    df_merged['total_claim_amount'] = df_merged['total_claim_amount'].fillna(0)\n",
    "    df_merged['target'] = 0.0\n",
    "    mask = df_merged['Exposure'] > 0\n",
    "    df_merged.loc[mask, 'target'] = (df_merged.loc[mask, 'total_claim_amount'] /\n",
    "                                     df_merged.loc[mask, 'Exposure'])\n",
    "    return df_merged\n"
   ]
  },
  {
   "cell_type": "code",
   "execution_count": 19,
   "id": "6f50087d-58c8-4c9c-bb98-c84c871d6ba8",
   "metadata": {},
   "outputs": [],
   "source": [
    "df_combined = prepare_data_for_modeling(df_freq, df_sev)"
   ]
  },
  {
   "cell_type": "code",
   "execution_count": 20,
   "id": "afb39666-783a-4f51-af15-ad02e4f584af",
   "metadata": {},
   "outputs": [
    {
     "name": "stdout",
     "output_type": "stream",
     "text": [
      "✅ Saved: total_claim_amount_histogram.png\n",
      "✅ Saved: target_histogram.png\n"
     ]
    }
   ],
   "source": [
    "plot_histograms_freedman_diaconis(\n",
    "    df_combined,\n",
    "    columns=[\"total_claim_amount\", \"target\"],\n",
    "    clip_upper_quantile=0.99\n",
    ")\n"
   ]
  },
  {
   "cell_type": "code",
   "execution_count": 21,
   "id": "134fcb76-74b3-4619-b02b-d26f72fa53db",
   "metadata": {},
   "outputs": [],
   "source": [
    "def prepare_data_for_modeling(df_freq, df_sev):\n",
    "    # Aggregate ClaimAmount by IDpol\n",
    "    df_sev_agg = df_sev.groupby('IDpol', as_index=False)['ClaimAmount'].sum()\n",
    "    df_sev_agg.rename(columns={'ClaimAmount': 'total_claim_amount'}, inplace=True)\n",
    "\n",
    "    # Merge the frequency and severity dataframes\n",
    "    df_merged = pd.merge(df_freq, df_sev_agg, on='IDpol', how='left')\n",
    "\n",
    "    # Fill missing total_claim_amount with 0\n",
    "    df_merged['total_claim_amount'] = df_merged['total_claim_amount'].fillna(0)\n",
    "\n",
    "    # Initialize 'target' as float to avoid dtype issues\n",
    "    df_merged['target'] = 0.0\n",
    "\n",
    "    # Calculate 'target' where 'Exposure' is greater than 0\n",
    "    mask = df_merged['Exposure'] > 0\n",
    "    df_merged.loc[mask, 'target'] = (\n",
    "        df_merged.loc[mask, 'total_claim_amount'] / df_merged.loc[mask, 'Exposure']\n",
    "    )\n",
    "\n",
    "    return df_merged\n"
   ]
  },
  {
   "cell_type": "code",
   "execution_count": 22,
   "id": "a259d2cd-c0bc-4c3c-9618-c419158e4aa6",
   "metadata": {},
   "outputs": [],
   "source": [
    "df_combined = prepare_data_for_modeling(df_freq, df_sev)"
   ]
  },
  {
   "cell_type": "code",
   "execution_count": 23,
   "id": "a279deea-3259-4b2d-8c46-2982215572b1",
   "metadata": {},
   "outputs": [],
   "source": [
    "def plot_and_save_correlation_matrix(df, columns=None, filename=\"correlation_matrix.png\"):\n",
    "    \"\"\"\n",
    "    Computes and plots the Pearson correlation matrix of selected columns in the dataframe.\n",
    "    \n",
    "    Parameters\n",
    "    ----------\n",
    "    df : pd.DataFrame\n",
    "        The dataframe containing your data.\n",
    "    columns : list of str or None\n",
    "        List of columns to include in the correlation matrix.\n",
    "        If None, all numeric columns will be used.\n",
    "    filename : str\n",
    "        File name to save the plot.\n",
    "    \"\"\"\n",
    "    if columns is not None:\n",
    "        corr_df = df[columns]\n",
    "    else:\n",
    "        corr_df = df.select_dtypes(include=np.number)\n",
    "\n",
    "    corr_matrix = corr_df.corr(method='pearson')\n",
    "\n",
    "    # Plot the heatmap\n",
    "    plt.figure(figsize=(12, 10))\n",
    "    sns.heatmap(corr_matrix, annot=True, fmt=\".2f\", cmap='coolwarm', square=True,\n",
    "                cbar_kws={\"shrink\": .8}, linewidths=.5)\n",
    "    plt.title(\"Correlation Matrix\", fontsize=14)\n",
    "    plt.tight_layout()\n",
    "    plt.savefig(filename)\n",
    "    plt.close()\n",
    "    print(f\"✅ Correlation matrix saved to: {filename}\")"
   ]
  },
  {
   "cell_type": "code",
   "execution_count": 24,
   "id": "accaca4a-8ec5-422e-b6c9-20fdfaba8c9e",
   "metadata": {},
   "outputs": [
    {
     "name": "stdout",
     "output_type": "stream",
     "text": [
      "✅ Correlation matrix saved to: correlation_matrix_combined.png\n"
     ]
    }
   ],
   "source": [
    "plot_and_save_correlation_matrix(df_combined, filename=\"correlation_matrix_combined.png\")\n"
   ]
  },
  {
   "cell_type": "code",
   "execution_count": null,
   "id": "ba2027cd-b87e-47df-aa58-ab79bed99406",
   "metadata": {},
   "outputs": [],
   "source": []
  },
  {
   "cell_type": "code",
   "execution_count": null,
   "id": "d8149d9f-e750-44f8-92ec-03d302a761f0",
   "metadata": {},
   "outputs": [],
   "source": []
  },
  {
   "cell_type": "code",
   "execution_count": null,
   "id": "b70658cb-688c-4489-8f25-2c1ae967fdae",
   "metadata": {},
   "outputs": [],
   "source": []
  }
 ],
 "metadata": {
  "kernelspec": {
   "display_name": "Python 3 (ipykernel)",
   "language": "python",
   "name": "python3"
  },
  "language_info": {
   "codemirror_mode": {
    "name": "ipython",
    "version": 3
   },
   "file_extension": ".py",
   "mimetype": "text/x-python",
   "name": "python",
   "nbconvert_exporter": "python",
   "pygments_lexer": "ipython3",
   "version": "3.10.9"
  }
 },
 "nbformat": 4,
 "nbformat_minor": 5
}
